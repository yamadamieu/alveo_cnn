{
 "cells": [
  {
   "cell_type": "markdown",
   "id": "171305a5",
   "metadata": {},
   "source": [
    "# dataflow"
   ]
  },
  {
   "cell_type": "code",
   "execution_count": 1,
   "id": "9f677a57",
   "metadata": {},
   "outputs": [],
   "source": [
    "# ビット数(8,12,16,32)\n",
    "B = 16"
   ]
  },
  {
   "cell_type": "code",
   "execution_count": 2,
   "id": "f24f54b2",
   "metadata": {},
   "outputs": [
    {
     "data": {
      "application/javascript": [
       "\n",
       "try {\n",
       "require(['notebook/js/codecell'], function(codecell) {\n",
       "  codecell.CodeCell.options_default.highlight_modes[\n",
       "      'magic_text/x-csrc'] = {'reg':[/^%%microblaze/]};\n",
       "  Jupyter.notebook.events.one('kernel_ready.Kernel', function(){\n",
       "      Jupyter.notebook.get_cells().map(function(cell){\n",
       "          if (cell.cell_type == 'code'){ cell.auto_highlight(); } }) ;\n",
       "  });\n",
       "});\n",
       "} catch (e) {};\n"
      ]
     },
     "metadata": {},
     "output_type": "display_data"
    },
    {
     "data": {
      "application/javascript": [
       "\n",
       "try {\n",
       "require(['notebook/js/codecell'], function(codecell) {\n",
       "  codecell.CodeCell.options_default.highlight_modes[\n",
       "      'magic_text/x-csrc'] = {'reg':[/^%%pybind11/]};\n",
       "  Jupyter.notebook.events.one('kernel_ready.Kernel', function(){\n",
       "      Jupyter.notebook.get_cells().map(function(cell){\n",
       "          if (cell.cell_type == 'code'){ cell.auto_highlight(); } }) ;\n",
       "  });\n",
       "});\n",
       "} catch (e) {};\n"
      ]
     },
     "metadata": {},
     "output_type": "display_data"
    }
   ],
   "source": [
    "import time\n",
    "import os\n",
    "import numpy as np\n",
    "import pandas as pd\n",
    "import matplotlib.pyplot as plt\n",
    "import pynq\n",
    "from pynq import Device\n",
    "from pynq.pmbus import DataRecorder\n",
    "import torch\n",
    "from torch import nn\n",
    "import torchvision\n",
    "import torchvision.transforms as transforms\n",
    "from torchvision import models\n",
    "from sklearn.metrics import accuracy_score, confusion_matrix\n",
    "%matplotlib inline"
   ]
  },
  {
   "cell_type": "code",
   "execution_count": 3,
   "id": "9eaf536b",
   "metadata": {},
   "outputs": [],
   "source": [
    "sensors = Device.active_device.sensors\n",
    "recorder = DataRecorder(sensors[\"12v_aux\"].power,\n",
    "                        sensors[\"12v_pex\"].power,\n",
    "                        sensors[\"vccint\"].power)"
   ]
  },
  {
   "cell_type": "code",
   "execution_count": 4,
   "id": "8fe87b1f",
   "metadata": {},
   "outputs": [
    {
     "name": "stdout",
     "output_type": "stream",
     "text": [
      "Files already downloaded and verified\n",
      "Files already downloaded and verified\n"
     ]
    }
   ],
   "source": [
    "N = 10000\n",
    "\n",
    "transform = transforms.Compose(\n",
    "    [transforms.ToTensor(),\n",
    "     transforms.Normalize((0.5, 0.5, 0.5), (0.5, 0.5, 0.5))])\n",
    "\n",
    "trainset = torchvision.datasets.CIFAR10(root='./data', train=True, download=True, transform=transform)\n",
    "testset = torchvision.datasets.CIFAR10(root='./data', train=False, download=True, transform=transform)\n",
    "\n",
    "trainloader = torch.utils.data.DataLoader(trainset, batch_size=N, shuffle=False)\n",
    "testloader = torch.utils.data.DataLoader(testset, batch_size=N, shuffle=False)\n",
    "\n",
    "classes = ('plane', 'car', 'bird', 'cat',\n",
    "           'deer', 'dog', 'frog', 'horse', 'ship', 'truck')\n",
    "\n",
    "classes2 = ('0', '1', '2', '3',\n",
    "           '4', '5', '6', '7', '8', '9')"
   ]
  },
  {
   "cell_type": "markdown",
   "id": "6d52b26a",
   "metadata": {},
   "source": [
    "# FPGA"
   ]
  },
  {
   "cell_type": "code",
   "execution_count": 5,
   "id": "6c3ebef7",
   "metadata": {},
   "outputs": [],
   "source": [
    "ol = pynq.Overlay(f'inference{B}.xclbin')\n",
    "inference = ol.inference_1"
   ]
  },
  {
   "cell_type": "markdown",
   "id": "5515285b",
   "metadata": {},
   "source": [
    "### 入力データの準備"
   ]
  },
  {
   "cell_type": "code",
   "execution_count": 6,
   "id": "11cbe8e8",
   "metadata": {},
   "outputs": [],
   "source": [
    "dataiter = iter(testloader)\n",
    "images, labels = dataiter.next()\n",
    "x_in = images.flatten().numpy()\n",
    "x_in = x_in.astype(np.float32)"
   ]
  },
  {
   "cell_type": "markdown",
   "id": "04f36ad4",
   "metadata": {},
   "source": [
    "### メモリの準備"
   ]
  },
  {
   "cell_type": "code",
   "execution_count": 7,
   "id": "abb021b8",
   "metadata": {},
   "outputs": [],
   "source": [
    "SIZE = 32*32*3\n",
    "x = pynq.allocate((SIZE*N,), 'f4')\n",
    "y = pynq.allocate((10*N,), 'f4')\n",
    "x[:] = x_in\n",
    "y[:] = 0"
   ]
  },
  {
   "cell_type": "markdown",
   "id": "0fc90fe9",
   "metadata": {},
   "source": [
    "## 実行"
   ]
  },
  {
   "cell_type": "code",
   "execution_count": 8,
   "id": "27f6af66",
   "metadata": {},
   "outputs": [
    {
     "name": "stdout",
     "output_type": "stream",
     "text": [
      "CPU times: user 2.16 s, sys: 3.45 s, total: 5.61 s\n",
      "Wall time: 8.81 s\n"
     ]
    }
   ],
   "source": [
    "%%time\n",
    "with recorder.record(0.01): # Sample every 0.1 seconds\n",
    "    time.sleep(3)\n",
    "    x.sync_to_device()\n",
    "    recorder.mark()\n",
    "    inference.call(x, y)\n",
    "    recorder.mark()\n",
    "    y.sync_from_device()\n",
    "    time.sleep(3)"
   ]
  },
  {
   "cell_type": "code",
   "execution_count": 9,
   "id": "dde19ce2",
   "metadata": {},
   "outputs": [
    {
     "data": {
      "text/plain": [
       "Timedelta('0 days 00:00:02.736489')"
      ]
     },
     "execution_count": 9,
     "metadata": {},
     "output_type": "execute_result"
    }
   ],
   "source": [
    "f = recorder.frame\n",
    "df = f[f[\"Mark\"]==1]\n",
    "df.index[len(df.index)-1]-df.index[0]"
   ]
  },
  {
   "cell_type": "code",
   "execution_count": 10,
   "id": "ca19f144",
   "metadata": {},
   "outputs": [
    {
     "data": {
      "text/plain": [
       "Mark              1.000000\n",
       "12v_aux_power     0.000000\n",
       "12v_pex_power    19.538308\n",
       "vccint_power      0.000000\n",
       "dtype: float64"
      ]
     },
     "execution_count": 10,
     "metadata": {},
     "output_type": "execute_result"
    }
   ],
   "source": [
    "time_df = []\n",
    "for i in range(len(df.index)-1):\n",
    "    time_df.append((df.index[i+1]-df.index[i]).total_seconds())\n",
    "\n",
    "df.reset_index(drop=True, inplace=True)\n",
    "df.mean()"
   ]
  },
  {
   "cell_type": "code",
   "execution_count": 11,
   "id": "fa9aa19d",
   "metadata": {},
   "outputs": [],
   "source": [
    "#2点間の平均を出力\n",
    "power_df = []\n",
    "for i in range(len(df.index)-1):\n",
    "    power_df.append((df['12v_pex_power'][i+1] + df['12v_pex_power'][i])/2)\n",
    "\n",
    "#2点間ごとの面積を求める\n",
    "power_all = []\n",
    "for i in range(len(df.index)-1):\n",
    "    power_all.append(time_df[i] * power_df[i])"
   ]
  },
  {
   "cell_type": "code",
   "execution_count": 12,
   "id": "11d7fce6",
   "metadata": {},
   "outputs": [
    {
     "data": {
      "text/plain": [
       "53.524612287086995"
      ]
     },
     "execution_count": 12,
     "metadata": {},
     "output_type": "execute_result"
    }
   ],
   "source": [
    "#消費電力\n",
    "sum(power_all)"
   ]
  },
  {
   "cell_type": "code",
   "execution_count": 13,
   "id": "eafeeee8",
   "metadata": {},
   "outputs": [
    {
     "data": {
      "text/plain": [
       "Text(0, 0.5, 'Power (W)')"
      ]
     },
     "execution_count": 13,
     "metadata": {},
     "output_type": "execute_result"
    },
    {
     "data": {
      "image/png": "[encoded data removed]",
      "text/plain": [
       "<Figure size 432x288 with 1 Axes>"
      ]
     },
     "metadata": {
      "needs_background": "light"
     },
     "output_type": "display_data"
    }
   ],
   "source": [
    "powers = pd.DataFrame(index=f.index)\n",
    "powers['board_power'] = f['12v_aux_power'] + f['12v_pex_power']\n",
    "ax = powers.plot()\n",
    "plt.minorticks_on()\n",
    "ax.set_ylabel(\"Power (W)\")"
   ]
  },
  {
   "cell_type": "markdown",
   "id": "0924bfb8",
   "metadata": {},
   "source": [
    "# PyTorch実行"
   ]
  },
  {
   "cell_type": "code",
   "execution_count": 14,
   "id": "c2dd48b5",
   "metadata": {},
   "outputs": [],
   "source": [
    "class CNN(torch.nn.Module):\n",
    "    def __init__(self, num_output_classes=10):\n",
    "        super(CNN, self).__init__()\n",
    "        self.conv1 = nn.Conv2d(in_channels=3, out_channels=32, kernel_size=3, padding=1)\n",
    "        self.conv2 = nn.Conv2d(in_channels=32, out_channels=32, kernel_size=3, padding=1)\n",
    "        self.conv3 = nn.Conv2d(in_channels=32, out_channels=64, kernel_size=3, padding=1)\n",
    "        self.conv4 = nn.Conv2d(in_channels=64, out_channels=64, kernel_size=3, padding=1)\n",
    "        self.pool = nn.MaxPool2d(kernel_size=2, stride=2)\n",
    "        self.fc1 = nn.Linear(64 * 2 * 2, 256)\n",
    "        self.fc2 = nn.Linear(256, 10)\n",
    "        self.relu = nn.ReLU(inplace=True)\n",
    "        \n",
    "    def forward(self, x):\n",
    "        x = self.relu(self.conv1(x))\n",
    "        x = self.pool(x)\n",
    "        x = self.relu(self.conv2(x))\n",
    "        x = self.pool(x)\n",
    "        x = self.relu(self.conv3(x))\n",
    "        x = self.pool(x)\n",
    "        x = self.relu(self.conv4(x))\n",
    "        x = self.pool(x)\n",
    "        x = x.view(-1, 64 * 2 * 2)\n",
    "        x = self.relu(self.fc1(x))      \n",
    "        x = self.fc2(x)\n",
    " \n",
    "        return x"
   ]
  },
  {
   "cell_type": "code",
   "execution_count": 15,
   "id": "92fc0c8a",
   "metadata": {},
   "outputs": [],
   "source": [
    "net = CNN()"
   ]
  },
  {
   "cell_type": "code",
   "execution_count": 16,
   "id": "37e1ec81",
   "metadata": {},
   "outputs": [
    {
     "data": {
      "text/plain": [
       "<All keys matched successfully>"
      ]
     },
     "execution_count": 16,
     "metadata": {},
     "output_type": "execute_result"
    }
   ],
   "source": [
    "# 保存しているtorchのパラメタを持ってくる\n",
    "load_weights = torch.load('model72.pt')\n",
    "net.load_state_dict(load_weights)"
   ]
  },
  {
   "cell_type": "code",
   "execution_count": 17,
   "id": "f664f807",
   "metadata": {},
   "outputs": [
    {
     "name": "stderr",
     "output_type": "stream",
     "text": [
      "/home/yamada/anaconda3/lib/python3.8/site-packages/torch/nn/functional.py:718: UserWarning: Named tensors and all their associated APIs are an experimental feature and subject to change. Please do not use them for anything important until they are released as stable. (Triggered internally at  /opt/conda/conda-bld/pytorch_1623448216815/work/c10/core/TensorImpl.h:1156.)\n",
      "  return torch.max_pool2d(input, kernel_size, stride, padding, dilation, ceil_mode)\n"
     ]
    }
   ],
   "source": [
    "outputs = net(images)"
   ]
  },
  {
   "cell_type": "markdown",
   "id": "178ef39b",
   "metadata": {},
   "source": [
    "### 目視での確認"
   ]
  },
  {
   "cell_type": "code",
   "execution_count": 18,
   "id": "a2560a62",
   "metadata": {},
   "outputs": [
    {
     "name": "stdout",
     "output_type": "stream",
     "text": [
      "[-14.902344   -17.798828   -14.714844   -11.888672    -8.552734\n",
      "  -8.919922   -19.884766    -0.84765625 -20.535156   -13.5859375 ]\n"
     ]
    }
   ],
   "source": [
    "print(y[200:210])"
   ]
  },
  {
   "cell_type": "code",
   "execution_count": 19,
   "id": "7ae1573c",
   "metadata": {},
   "outputs": [
    {
     "name": "stdout",
     "output_type": "stream",
     "text": [
      "[-14.436577   -17.064035   -14.196071   -11.521516    -8.409033\n",
      "  -8.547713   -19.108736    -0.81221604 -19.931944   -13.066869  ]\n"
     ]
    }
   ],
   "source": [
    "print(outputs.detach().numpy().flatten()[200:210])"
   ]
  },
  {
   "cell_type": "markdown",
   "id": "f35b2ddc",
   "metadata": {},
   "source": [
    "# 評価"
   ]
  },
  {
   "cell_type": "code",
   "execution_count": 20,
   "id": "435f86e9",
   "metadata": {},
   "outputs": [],
   "source": [
    "#ラベル\n",
    "ll = []\n",
    "for i in range(N):\n",
    "    ll.append(classes2[labels[i]])\n",
    "\n",
    "# pytorch結果\n",
    "cpu = torch.argmax(outputs, dim=1)\n",
    "cpu = np.array(cpu)\n",
    "\n",
    "# fpga結果の表示\n",
    "fpga = []\n",
    "for i in range(N):\n",
    "    fpga.append(np.argmax(y[i*10:i*10+10]))"
   ]
  },
  {
   "cell_type": "code",
   "execution_count": 21,
   "id": "77671892",
   "metadata": {},
   "outputs": [
    {
     "name": "stdout",
     "output_type": "stream",
     "text": [
      "98.72\n"
     ]
    }
   ],
   "source": [
    "# PytorchとFPGAの差\n",
    "count = 0\n",
    "for c in range(N):\n",
    "    if(cpu[c] == fpga[c]):\n",
    "        count += 1\n",
    "count = count/N * 100\n",
    "print(count)"
   ]
  },
  {
   "cell_type": "code",
   "execution_count": 22,
   "id": "a514c603",
   "metadata": {},
   "outputs": [
    {
     "name": "stdout",
     "output_type": "stream",
     "text": [
      "精度：79.72％\n"
     ]
    }
   ],
   "source": [
    "# FPGAの精度\n",
    "count = 0\n",
    "for c in range(N):\n",
    "    if(int(ll[c]) == fpga[c]):\n",
    "        count += 1\n",
    "count = count/N * 100\n",
    "print(f'精度：{count}％')"
   ]
  },
  {
   "cell_type": "code",
   "execution_count": 23,
   "id": "7de6b2ce",
   "metadata": {},
   "outputs": [],
   "source": [
    "%xdel y\n",
    "%xdel x\n",
    "ol.free()"
   ]
  },
  {
   "cell_type": "code",
   "execution_count": null,
   "id": "ea190855",
   "metadata": {},
   "outputs": [],
   "source": []
  },
  {
   "cell_type": "code",
   "execution_count": null,
   "id": "c016e161",
   "metadata": {},
   "outputs": [],
   "source": []
  },
  {
   "cell_type": "code",
   "execution_count": null,
   "id": "4176ee98",
   "metadata": {},
   "outputs": [],
   "source": []
  }
 ],
 "metadata": {
  "kernelspec": {
   "display_name": "Python 3",
   "language": "python",
   "name": "python3"
  },
  "language_info": {
   "codemirror_mode": {
    "name": "ipython",
    "version": 3
   },
   "file_extension": ".py",
   "mimetype": "text/x-python",
   "name": "python",
   "nbconvert_exporter": "python",
   "pygments_lexer": "ipython3",
   "version": "3.8.8"
  }
 },
 "nbformat": 4,
 "nbformat_minor": 5
}
