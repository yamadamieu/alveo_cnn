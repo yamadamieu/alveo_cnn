{
 "cells": [
  {
   "cell_type": "code",
   "execution_count": 1,
   "id": "75de0cc5",
   "metadata": {},
   "outputs": [],
   "source": [
    "import numpy as np\n",
    "import matplotlib.pyplot as plt\n",
    "import torch\n",
    "import torchvision\n",
    "import torchvision.transforms as transforms\n",
    "from torch import nn\n",
    "from torchvision import models\n",
    "from sklearn.metrics import accuracy_score, confusion_matrix\n",
    "%matplotlib inline"
   ]
  },
  {
   "cell_type": "code",
   "execution_count": 2,
   "id": "2e81d981",
   "metadata": {},
   "outputs": [
    {
     "name": "stdout",
     "output_type": "stream",
     "text": [
      "Files already downloaded and verified\n",
      "Files already downloaded and verified\n"
     ]
    }
   ],
   "source": [
    "transform = transforms.Compose(\n",
    "    [transforms.ToTensor(),\n",
    "     transforms.Normalize((0.5, 0.5, 0.5), (0.5, 0.5, 0.5))])\n",
    "trainset = torchvision.datasets.CIFAR10(root='./data', train=True, download=True, transform=transform)\n",
    "testset = torchvision.datasets.CIFAR10(root='./data', train=False, download=True, transform=transform)\n",
    "N = 10000\n",
    "trainloader = torch.utils.data.DataLoader(trainset, batch_size=N, shuffle=True)\n",
    "testloader = torch.utils.data.DataLoader(testset, batch_size=N, shuffle=False)"
   ]
  },
  {
   "cell_type": "code",
   "execution_count": 3,
   "id": "91027023",
   "metadata": {},
   "outputs": [],
   "source": [
    "classes = ('plane', 'car', 'bird', 'cat',\n",
    "           'deer', 'dog', 'frog', 'horse', 'ship', 'truck')\n",
    "classes2 = ('0', '1', '2', '3',\n",
    "           '4', '5', '6', '7', '8', '9')"
   ]
  },
  {
   "cell_type": "code",
   "execution_count": 4,
   "id": "af097735",
   "metadata": {},
   "outputs": [],
   "source": [
    "class CNN(torch.nn.Module):\n",
    "    def __init__(self, num_output_classes=10):\n",
    "        super(CNN, self).__init__()\n",
    "        self.conv1 = nn.Conv2d(in_channels=3, out_channels=32, kernel_size=3, padding=1)\n",
    "        self.conv2 = nn.Conv2d(in_channels=32, out_channels=32, kernel_size=3, padding=1)\n",
    "        self.conv3 = nn.Conv2d(in_channels=32, out_channels=64, kernel_size=3, padding=1)\n",
    "        self.conv4 = nn.Conv2d(in_channels=64, out_channels=64, kernel_size=3, padding=1)\n",
    "        self.pool = nn.MaxPool2d(kernel_size=2, stride=2)\n",
    "        self.fc1 = nn.Linear(64 * 2 * 2, 256)\n",
    "        self.fc2 = nn.Linear(256, 10)\n",
    "        self.relu = nn.ReLU(inplace=True)\n",
    "        \n",
    "    def forward(self, x):\n",
    "        x = self.relu(self.conv1(x))\n",
    "        x = self.pool(x)\n",
    "        x = self.relu(self.conv2(x))\n",
    "        x = self.pool(x)\n",
    "        x = self.relu(self.conv3(x))\n",
    "        x = self.pool(x)\n",
    "        x = self.relu(self.conv4(x))\n",
    "        x = self.pool(x)\n",
    "        x = x.view(-1, 64 * 2 * 2)\n",
    "        x = self.relu(self.fc1(x))      \n",
    "        x = self.fc2(x)\n",
    " \n",
    "        return x"
   ]
  },
  {
   "cell_type": "code",
   "execution_count": 5,
   "id": "e888fd94",
   "metadata": {},
   "outputs": [],
   "source": [
    "net = CNN()"
   ]
  },
  {
   "cell_type": "code",
   "execution_count": 6,
   "id": "aad4f50d",
   "metadata": {},
   "outputs": [
    {
     "data": {
      "text/plain": [
       "<All keys matched successfully>"
      ]
     },
     "execution_count": 6,
     "metadata": {},
     "output_type": "execute_result"
    }
   ],
   "source": [
    "# 保存しているtorchのパラメタを持ってくる\n",
    "load_weights = torch.load('model72.pt')\n",
    "net.load_state_dict(load_weights)"
   ]
  },
  {
   "cell_type": "code",
   "execution_count": 8,
   "id": "b06665ac",
   "metadata": {},
   "outputs": [
    {
     "name": "stdout",
     "output_type": "stream",
     "text": [
      "accuracy: 0.797\n",
      "confusion matrix:\n",
      "[[838  12  26  11   9   5   7   6  55  31]\n",
      " [  8 898   2   1   1   2   6   0  19  63]\n",
      " [ 68   3 650  36  75  61  67  19  10  11]\n",
      " [ 22   6  56 571  62 152  75  31  10  15]\n",
      " [ 16   1  27  35 814  12  36  48   9   2]\n",
      " [ 11   1  37 138  42 709  18  37   2   5]\n",
      " [  6   3  20  36  21  17 885   3   6   3]\n",
      " [ 16   1  14  32  43  46   4 835   1   8]\n",
      " [ 40  21   9   6   5   1   4   5 888  21]\n",
      " [ 22  55   1   5   1   3   6   7  18 882]]\n"
     ]
    }
   ],
   "source": [
    "ans = []\n",
    "pred = []\n",
    "for i, data in enumerate(testloader, 0):\n",
    "    inputs, labels = data\n",
    "    outputs = net(inputs)\n",
    "\n",
    "    ans += labels.tolist()\n",
    "    pred += torch.argmax(outputs, 1).tolist()\n",
    "\n",
    "print('accuracy:', accuracy_score(ans, pred))\n",
    "print('confusion matrix:')\n",
    "print(confusion_matrix(ans, pred))"
   ]
  },
  {
   "cell_type": "code",
   "execution_count": null,
   "id": "ef609f59",
   "metadata": {},
   "outputs": [],
   "source": []
  }
 ],
 "metadata": {
  "kernelspec": {
   "display_name": "Python 3",
   "language": "python",
   "name": "python3"
  },
  "language_info": {
   "codemirror_mode": {
    "name": "ipython",
    "version": 3
   },
   "file_extension": ".py",
   "mimetype": "text/x-python",
   "name": "python",
   "nbconvert_exporter": "python",
   "pygments_lexer": "ipython3",
   "version": "3.8.8"
  }
 },
 "nbformat": 4,
 "nbformat_minor": 5
}
